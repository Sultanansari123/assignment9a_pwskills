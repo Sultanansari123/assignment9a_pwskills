{
 "cells": [
  {
   "cell_type": "markdown",
   "id": "b3dd57b2-3e6c-449e-aa2f-ee99233b0dd1",
   "metadata": {},
   "source": [
    "# Ans1-"
   ]
  },
  {
   "cell_type": "markdown",
   "id": "9694bd79-54ed-46e1-9bc3-98c73f28661e",
   "metadata": {},
   "source": [
    "Bayes theorem is the mathematical formula that calculate the probability of an event based on the prior knowledge of the condition that might be related to the events."
   ]
  },
  {
   "cell_type": "markdown",
   "id": "2350dd83-18ad-47dd-983c-7200a6a1f490",
   "metadata": {},
   "source": [
    "# Ans2-"
   ]
  },
  {
   "cell_type": "markdown",
   "id": "397e5704-c537-4c63-ab52-0346108670c9",
   "metadata": {},
   "source": [
    "bayes theorem  farmula is:\n",
    "\n",
    "\n",
    "P(A/B)=P(B/A).P(A)/P(B)"
   ]
  },
  {
   "cell_type": "markdown",
   "id": "d15af0d3-b739-4e2f-a4a4-50ccebc8ca17",
   "metadata": {},
   "source": [
    "# Ans3-"
   ]
  },
  {
   "cell_type": "markdown",
   "id": "fc48d791-1470-456e-afd8-9dd4ad9e9fdf",
   "metadata": {},
   "source": [
    "\n",
    "Bayes' theorem is used in practice to update probabilities based on new evidence, especially in fields like statistics, machine learning, and medical diagnosis."
   ]
  },
  {
   "cell_type": "markdown",
   "id": "280093a3-a4f5-42f1-8fad-5bc4a08847cb",
   "metadata": {},
   "source": [
    "# Ans4-"
   ]
  },
  {
   "cell_type": "markdown",
   "id": "24966193-8110-4887-b2c5-b13a3cbb62a6",
   "metadata": {},
   "source": [
    "Bayes theorm incorporate prior knowledge to update the probabilities while conditional probabilty focuses on the probability of an event given another event has occured."
   ]
  },
  {
   "cell_type": "markdown",
   "id": "02f3ef8e-9847-4f6a-8691-48f50c3ee2f2",
   "metadata": {},
   "source": [
    "# Ans5-"
   ]
  },
  {
   "cell_type": "markdown",
   "id": "a596322c-02d6-41ab-9169-0a4697692881",
   "metadata": {},
   "source": [
    "Choose the type of Naive Bayes classifier based on the nature of your features; for example, use Gaussian Naive Bayes for continuous features, Multinomial Naive Bayes for discrete features (e.g., word counts), and Bernoulli Naive Bayes for binary features (e.g., presence or absence)."
   ]
  },
  {
   "cell_type": "markdown",
   "id": "2dc43703-a520-49d9-b05d-ae569a1ebc8b",
   "metadata": {},
   "source": [
    "# Ans6-"
   ]
  },
  {
   "cell_type": "markdown",
   "id": "82907800-f3ee-4738-9e33-1b86c5de2f54",
   "metadata": {},
   "source": [
    "\n",
    "To predict the class using Naive Bayes, calculate the conditional probabilities for each class based on the given features. Here, I'll demonstrate using the Naive Bayes formula without normalization for simplicity:"
   ]
  },
  {
   "cell_type": "markdown",
   "id": "c3736a2a-551c-4915-a5af-3a3d3a440179",
   "metadata": {},
   "source": [
    "P(A|X1=3,X2=4)=3/3*4/4*0.5=0.5\n",
    "\n",
    "P(B|X1=3,X2=4)=1/4*3/3*0.5=0.125\n",
    "\n",
    "SINCE P(A|X1=3,X2=4)=3/3*4/4*0.5=0.5 higher the naive bayes classifiers would predict the new instance to belong to the class A."
   ]
  },
  {
   "cell_type": "code",
   "execution_count": null,
   "id": "43a96d39-bcad-4e88-a6eb-83fed946c652",
   "metadata": {},
   "outputs": [],
   "source": []
  }
 ],
 "metadata": {
  "kernelspec": {
   "display_name": "Python 3 (ipykernel)",
   "language": "python",
   "name": "python3"
  },
  "language_info": {
   "codemirror_mode": {
    "name": "ipython",
    "version": 3
   },
   "file_extension": ".py",
   "mimetype": "text/x-python",
   "name": "python",
   "nbconvert_exporter": "python",
   "pygments_lexer": "ipython3",
   "version": "3.10.8"
  }
 },
 "nbformat": 4,
 "nbformat_minor": 5
}
